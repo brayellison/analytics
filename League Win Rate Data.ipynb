{
 "cells": [
  {
   "cell_type": "code",
   "execution_count": 11,
   "metadata": {},
   "outputs": [],
   "source": [
    "import pandas as pd\n",
    "import ipywidgets as widgets\n",
    "from ipywidgets import interactive, interact\n",
    "from IPython.display import display\n",
    "from pivottablejs import pivot_ui\n",
    "\n",
    "league_data = pd.DataFrame.from_dict(eval('{\\'teamid\\': {0: 1, 10: 1, 18: 1, 28: 1, 42: 1, 7: 2, 17: 2, 23: 2, 37: 2, 41: 2, 3: 3, 13: 3, 27: 3, 36: 3, 40: 3, 1: 5, 16: 5, 24: 5, 34: 5, 47: 5, 5: 6, 14: 6, 26: 6, 35: 6, 38: 6, 4: 7, 12: 7, 22: 7, 31: 7, 44: 7, 6: 8, 8: 8, 21: 8, 29: 8, 43: 8, 2: 10, 9: 10, 19: 10, 30: 10, 39: 10, 11: 11, 20: 11, 32: 11, 45: 11, 15: 12, 25: 12, 33: 12, 46: 12}, \\'year\\': {0: \\'2013\\', 10: \\'2014\\', 18: \\'2015\\', 28: \\'2016\\', 42: \\'2017\\', 7: \\'2013\\', 17: \\'2014\\', 23: \\'2015\\', 37: \\'2016\\', 41: \\'2017\\', 3: \\'2013\\', 13: \\'2014\\', 27: \\'2015\\', 36: \\'2016\\', 40: \\'2017\\', 1: \\'2013\\', 16: \\'2014\\', 24: \\'2015\\', 34: \\'2016\\', 47: \\'2017\\', 5: \\'2013\\', 14: \\'2014\\', 26: \\'2015\\', 35: \\'2016\\', 38: \\'2017\\', 4: \\'2013\\', 12: \\'2014\\', 22: \\'2015\\', 31: \\'2016\\', 44: \\'2017\\', 6: \\'2013\\', 8: \\'2014\\', 21: \\'2015\\', 29: \\'2016\\', 43: \\'2017\\', 2: \\'2013\\', 9: \\'2014\\', 19: \\'2015\\', 30: \\'2016\\', 39: \\'2017\\', 11: \\'2014\\', 20: \\'2015\\', 32: \\'2016\\', 45: \\'2017\\', 15: \\'2014\\', 25: \\'2015\\', 33: \\'2016\\', 46: \\'2017\\'}, \\'owner\\': {0: \\'Jason Bennett\\', 10: \\'Jason Bennett\\', 18: \\'Jason Bennett\\', 28: \\'Jason Bennett\\', 42: \\'Jason Bennett\\', 7: \\'Victor Castorini\\', 17: \\'Victor Castorini, Jason Bennett\\', 23: \\'Victor Castorini\\', 37: \\'Victor Castorini\\', 41: \\'Victor Castorini, Clement Tyler\\', 3: \\'Andy Brorson\\', 13: \\'Andy Brorson\\', 27: \\'Andy Brorson\\', 36: \\'Andy Brorson\\', 40: \\'Andy Brorson\\', 1: \\'Scott Salz\\', 16: \\'Scott Salz\\', 24: \\'Scott Salz\\', 34: \\'Scott Salz\\', 47: \\'Scott Salz\\', 5: \\'brandon ellison\\', 14: \\'brandon ellison\\', 26: \\'brandon ellison\\', 35: \\'brandon ellison\\', 38: \\'brandon ellison\\', 4: \\'Bray Ellison\\', 12: \\'Bray Ellison\\', 22: \\'Bray Ellison\\', 31: \\'Bray Ellison\\', 44: \\'Bray Ellison\\', 6: \\'Doug Ellison\\', 8: \\'Doug Ellison\\', 21: \\'Doug Ellison\\', 29: \\'Doug Ellison\\', 43: \\'Doug Ellison\\', 2: \\'Nat Saunders\\', 9: \\'Nat Saunders\\', 19: \\'Nat Saunders\\', 30: \\'Nat Saunders\\', 39: \\'Nat Saunders\\', 11: \\'Paige Attana\\', 20: \\'Kyle Myers\\', 32: \\'Brett moore\\', 45: \\'Brett moore\\', 15: \\'Drew Attana\\', 25: \\'Drew Attana\\', 33: \\'Drew Attana\\', 46: \\'Drew Attana\\'}, \\'teamname\\': {0: \\'P.E.D. Breakfast\\', 10: \\'P.E.D. Supper\\', 18: \\'P.E.D. Breakfast\\', 28: \\'P.E.D. Breakfast\\', 42: \\'P.E.D. Breakfast\\', 7: \\'Fish Taco\\', 17: \\'Milkshake Yardboys\\', 23: \"It\\'s fall fuckfaces!\", 37: \\'Deflate GREAT!\\', 41: \\'DeflateGreat White North\\', 3: \\'Team Brah-hey\\', 13: \\'They Might Be Bryants\\', 27: \\'They Might Be Injured\\', 36: \\'Palmer I Hardly Knew Her\\', 40: \\'Super Mario(ta) Bros.\\', 1: \\'Donkey Punch\\', 16: \\'Angry Dragon\\', 24: \\'Where is Blumpkin\\', 34: \\'Blowing Breeze\\', 47: \\'The Fitzpatrick Curse\\', 5: \\'Now! With More! Losing!\\', 14: \\'Fitzmagic Mike\\', 26: \\'Minor Dezaster\\', 35: \\'The Antonio Brown Notes\\', 38: \\'The Antonio Brown Notes\\', 4: \\'Quod Erat Demonstrandum\\', 12: \"Paul Mua\\'Crab\\'Tree\", 22: \\'The RVA Dumpster Fires\\', 31: \\'Cam You Feel It Intensify\\', 44: \\'Hyde The Sausage\\', 6: \\'Likes to lose\\', 8: \\'Sad HighScoreLoser\\', 21: \\'Broke back fantasy\\', 29: \\'Broke back fantasy\\', 43: \\'Broke back fantasy\\', 2: \\'Sinking Ship\\', 9: \\'Nat Man\\', 19: \\'Bell Fell\\', 30: \\'We Are Marshall\\', 39: \\'Mr. Rodgers Neighborhood\\', 11: \"The Ragin\\' Paigen\", 20: \\'Some Body\\', 32: \\'BORTLES 2016\\', 45: \\'Matty Ice\\', 15: \\'The DruPac Shakurs\\', 25: \\'Gronkey Kong Country\\', 33: \\'The Jordan Reed Options\\', 46: \\'Honey Funchess Of Oats\\'}, \\'W\\': {0: \\'10\\', 10: \\'6\\', 18: \\'8\\', 28: \\'8\\', 42: \\'4\\', 7: \\'3\\', 17: \\'4\\', 23: \\'10\\', 37: \\'2\\', 41: \\'5\\', 3: \\'7\\', 13: \\'10\\', 27: \\'4\\', 36: \\'4\\', 40: \\'5\\', 1: \\'8\\', 16: \\'5\\', 24: \\'7\\', 34: \\'7\\', 47: \\'4\\', 5: \\'5\\', 14: \\'8\\', 26: \\'7\\', 35: \\'6\\', 38: \\'9\\', 4: \\'6\\', 12: \\'4\\', 22: \\'4\\', 31: \\'7\\', 44: \\'5\\', 6: \\'5\\', 8: \\'8\\', 21: \\'6\\', 29: \\'8\\', 43: \\'6\\', 2: \\'8\\', 9: \\'8\\', 19: \\'6\\', 30: \\'7\\', 39: \\'8\\', 11: \\'5\\', 20: \\'6\\', 32: \\'6\\', 45: \\'5\\', 15: \\'7\\', 25: \\'7\\', 33: \\'10\\', 46: \\'4\\'}, \\'L\\': {0: \\'3\\', 10: \\'7\\', 18: \\'5\\', 28: \\'5\\', 42: \\'7\\', 7: \\'10\\', 17: \\'9\\', 23: \\'3\\', 37: \\'11\\', 41: \\'6\\', 3: \\'6\\', 13: \\'3\\', 27: \\'9\\', 36: \\'9\\', 40: \\'6\\', 1: \\'5\\', 16: \\'8\\', 24: \\'6\\', 34: \\'6\\', 47: \\'7\\', 5: \\'8\\', 14: \\'5\\', 26: \\'6\\', 35: \\'7\\', 38: \\'2\\', 4: \\'7\\', 12: \\'9\\', 22: \\'9\\', 31: \\'6\\', 44: \\'6\\', 6: \\'8\\', 8: \\'5\\', 21: \\'7\\', 29: \\'5\\', 43: \\'5\\', 2: \\'5\\', 9: \\'5\\', 19: \\'7\\', 30: \\'6\\', 39: \\'3\\', 11: \\'8\\', 20: \\'7\\', 32: \\'7\\', 45: \\'6\\', 15: \\'6\\', 25: \\'6\\', 33: \\'3\\', 46: \\'7\\'}, \\'T\\': {0: \\'0\\', 10: \\'0\\', 18: \\'0\\', 28: \\'0\\', 42: \\'0\\', 7: \\'0\\', 17: \\'0\\', 23: \\'0\\', 37: \\'0\\', 41: \\'0\\', 3: \\'0\\', 13: \\'0\\', 27: \\'0\\', 36: \\'0\\', 40: \\'0\\', 1: \\'0\\', 16: \\'0\\', 24: \\'0\\', 34: \\'0\\', 47: \\'0\\', 5: \\'0\\', 14: \\'0\\', 26: \\'0\\', 35: \\'0\\', 38: \\'0\\', 4: \\'0\\', 12: \\'0\\', 22: \\'0\\', 31: \\'0\\', 44: \\'0\\', 6: \\'0\\', 8: \\'0\\', 21: \\'0\\', 29: \\'0\\', 43: \\'0\\', 2: \\'0\\', 9: \\'0\\', 19: \\'0\\', 30: \\'0\\', 39: \\'0\\', 11: \\'0\\', 20: \\'0\\', 32: \\'0\\', 45: \\'0\\', 15: \\'0\\', 25: \\'0\\', 33: \\'0\\', 46: \\'0\\'}, \\'PCT\\': {0: 0.769, 10: 0.462, 18: 0.615, 28: 0.615, 42: 0.364, 7: 0.231, 17: 0.308, 23: 0.769, 37: 0.154, 41: 0.455, 3: 0.538, 13: 0.769, 27: 0.308, 36: 0.308, 40: 0.455, 1: 0.615, 16: 0.385, 24: 0.538, 34: 0.538, 47: 0.364, 5: 0.385, 14: 0.615, 26: 0.538, 35: 0.462, 38: 0.818, 4: 0.462, 12: 0.308, 22: 0.308, 31: 0.538, 44: 0.455, 6: 0.385, 8: 0.615, 21: 0.462, 29: 0.615, 43: 0.545, 2: 0.615, 9: 0.615, 19: 0.462, 30: 0.538, 39: 0.727, 11: 0.385, 20: 0.462, 32: 0.462, 45: 0.455, 15: 0.538, 25: 0.538, 33: 0.769, 46: 0.364}, \\'All Time Rank\\': {0: 3.5, 10: 27.0, 18: 10.5, 28: 10.5, 42: 40.0, 7: 47.0, 17: 44.0, 23: 3.5, 37: 48.0, 41: 32.5, 3: 19.5, 13: 3.5, 27: 44.0, 36: 44.0, 40: 32.5, 1: 10.5, 16: 36.5, 24: 19.5, 34: 19.5, 47: 40.0, 5: 36.5, 14: 10.5, 26: 19.5, 35: 27.0, 38: 1.0, 4: 27.0, 12: 44.0, 22: 44.0, 31: 19.5, 44: 32.5, 6: 36.5, 8: 10.5, 21: 27.0, 29: 10.5, 43: 15.0, 2: 10.5, 9: 10.5, 19: 27.0, 30: 19.5, 39: 6.0, 11: 36.5, 20: 27.0, 32: 27.0, 45: 32.5, 15: 19.5, 25: 19.5, 33: 3.5, 46: 40.0}, \\'In Season Rank\\': {0: 1.0, 10: 6.0, 18: 2.0, 28: 2.5, 42: 9.0, 7: 8.0, 17: 9.5, 23: 1.0, 37: 10.0, 41: 5.5, 3: 4.0, 13: 1.0, 27: 9.5, 36: 9.0, 40: 5.5, 1: 2.5, 16: 7.5, 24: 4.0, 34: 5.0, 47: 9.0, 5: 6.5, 14: 3.0, 26: 4.0, 35: 7.5, 38: 1.0, 4: 5.0, 12: 9.5, 22: 9.5, 31: 5.0, 44: 5.5, 6: 6.5, 8: 3.0, 21: 7.0, 29: 2.5, 43: 3.0, 2: 2.5, 9: 3.0, 19: 7.0, 30: 5.0, 39: 2.0, 11: 7.5, 20: 7.0, 32: 7.5, 45: 5.5, 15: 5.0, 25: 4.0, 33: 1.0, 46: 9.0}}'))\n",
    "league_data = league_data[['teamid', 'year', 'owner', 'teamname', 'W', 'L', 'T', 'PCT', 'All Time Rank', 'In Season Rank']]\n",
    "league_data.columns = ['Team ID', 'Year', 'Owner', 'Team Name', 'W', 'L', 'T', 'PCT', 'All Time Rank', 'In Season Rank']\n",
    "league_data['Year'] = league_data['Year'].apply(str)\n",
    "league_data['Team ID'] = league_data['Team ID'].apply(str)"
   ]
  },
  {
   "cell_type": "code",
   "execution_count": 12,
   "metadata": {},
   "outputs": [
    {
     "data": {
      "application/vnd.jupyter.widget-view+json": {
       "model_id": "5a06dd5ef95c4ef4a29977ec00f44a2a",
       "version_major": 2,
       "version_minor": 0
      },
      "text/html": [
       "<p>Failed to display Jupyter Widget of type <code>interactive</code>.</p>\n",
       "<p>\n",
       "  If you're reading this message in the Jupyter Notebook or JupyterLab Notebook, it may mean\n",
       "  that the widgets JavaScript is still loading. If this message persists, it\n",
       "  likely means that the widgets JavaScript library is either not installed or\n",
       "  not enabled. See the <a href=\"https://ipywidgets.readthedocs.io/en/stable/user_install.html\">Jupyter\n",
       "  Widgets Documentation</a> for setup instructions.\n",
       "</p>\n",
       "<p>\n",
       "  If you're reading this message in another frontend (for example, a static\n",
       "  rendering on GitHub or <a href=\"https://nbviewer.jupyter.org/\">NBViewer</a>),\n",
       "  it may mean that your frontend doesn't currently support widgets.\n",
       "</p>\n"
      ],
      "text/plain": [
       "interactive(children=(Select(description='owner_name', options=('All', 'Andy Brorson', 'Bray Ellison', 'Brett moore', 'Doug Ellison', 'Drew Attana', 'Jason Bennett', 'Kyle Myers', 'Nat Saunders', 'Paige Attana', 'Scott Salz', 'Victor Castorini', 'Victor Castorini, Clement Tyler', 'Victor Castorini, Jason Bennett', 'brandon ellison'), value='All'), Select(description='team_id', options=('All', '1', '10', '11', '12', '2', '3', '5', '6', '7', '8'), value='All'), Select(description='year', options=('All', '2013', '2014', '2015', '2016', '2017'), value='All'), Output()), _dom_classes=('widget-interact',))"
      ]
     },
     "metadata": {},
     "output_type": "display_data"
    },
    {
     "data": {
      "text/html": [
       "\n",
       "        <iframe\n",
       "            width=\"100%\"\n",
       "            height=\"500\"\n",
       "            src=\"pivottablejs.html\"\n",
       "            frameborder=\"0\"\n",
       "            allowfullscreen\n",
       "        ></iframe>\n",
       "        "
      ],
      "text/plain": [
       "<IPython.lib.display.IFrame at 0x7f3431d21b38>"
      ]
     },
     "execution_count": 12,
     "metadata": {},
     "output_type": "execute_result"
    }
   ],
   "source": [
    "owners = ['All'] + sorted(league_data['Owner'].unique().tolist())\n",
    "team_ids = ['All'] + sorted(league_data['Team ID'].unique().tolist())\n",
    "years = ['All'] + sorted(league_data['Year'].unique().tolist())\n",
    "\n",
    "def view(owner_name='', team_id='', year=''):\n",
    "    if (owner_name == 'All') & (team_id == 'All') & (year == 'All'):\n",
    "        return league_data\n",
    "    updates = {'Owner': owner_name, 'Team ID': team_id, 'Year': year}\n",
    "    outDf = league_data\n",
    "    for key, val in updates.items():\n",
    "        if val != 'All':\n",
    "            outDf = outDf[outDf[key] == val]\n",
    "    return outDf\n",
    "\n",
    "out = view('Bray Ellison', 'All', 'All')\n",
    "\n",
    "owner_select = widgets.Select(options=owners)\n",
    "team_id_select = widgets.Select(options=team_ids)\n",
    "year_select = widgets.Select(options=years)\n",
    "\n",
    "interact(view, owner_name=owner_select, team_id=team_id_select, year=year_select);\n"
   ]
  },
  {
   "cell_type": "code",
   "execution_count": null,
   "metadata": {},
   "outputs": [],
   "source": []
  }
 ],
 "metadata": {
  "kernelspec": {
   "display_name": "Python 3",
   "language": "python",
   "name": "python3"
  },
  "language_info": {
   "codemirror_mode": {
    "name": "ipython",
    "version": 3
   },
   "file_extension": ".py",
   "mimetype": "text/x-python",
   "name": "python",
   "nbconvert_exporter": "python",
   "pygments_lexer": "ipython3",
   "version": "3.6.2"
  }
 },
 "nbformat": 4,
 "nbformat_minor": 2
}
